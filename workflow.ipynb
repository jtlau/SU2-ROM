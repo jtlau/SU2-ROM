{
 "cells": [
  {
   "cell_type": "code",
   "execution_count": 1,
   "metadata": {},
   "outputs": [],
   "source": [
    "import copy\n",
    "import numpy as np\n",
    "import os\n",
    "import shutil\n",
    "import pylab\n",
    "import csv\n",
    "import sys\n",
    "import pandas as pd\n",
    "sys.path.append(os.environ['SU2_RUN'])\n",
    "\n",
    "import SU2"
   ]
  },
  {
   "cell_type": "markdown",
   "metadata": {},
   "source": [
    "# libROM snapshot capturing"
   ]
  },
  {
   "cell_type": "code",
   "execution_count": 2,
   "metadata": {},
   "outputs": [],
   "source": [
    "# setup config file\n",
    "dir_names = [\"data/mach2/\",\n",
    "            \"data/mach2p5/\",\n",
    "            \"data/mach3/\",\n",
    "            \"data/mach3p5/\",\n",
    "            \"data/mach4/\"]\n",
    "\n",
    "\n",
    "# input file names:\n",
    "config_filename = \"cyl.cfg\"\n",
    "\n",
    "sol_filename = \"restart_flow.csv\"\n",
    "\n",
    "# output file names from librom:\n",
    "librom_filenames = [\"mach2\",\n",
    "                    \"mach2p5\",\n",
    "                    \"mach3\",\n",
    "                    \"mach3p5\",\n",
    "                    \"mach4\"]\n",
    "\n",
    "mesh_filename   = \"cyl_med_20k.su2\" # assumes you are using the same mesh for all\n",
    "path_to_SU2_CFD = \"/Users/jessie/Software/SU2/bin/SU2_CFD\" # just \"SU2_CFD\" if using default SU2 installation"
   ]
  },
  {
   "cell_type": "code",
   "execution_count": 4,
   "metadata": {},
   "outputs": [],
   "source": [
    "# run SU2 and capture snapshots\n",
    "\n",
    "for i in range(len(dir_names)):\n",
    "    config = SU2.io.Config(dir_names[i]+config_filename)\n",
    "    state  = SU2.io.State()\n",
    "    config.MESH_FILENAME = mesh_filename\n",
    "    config.NUMBER_PART = int(2) # for parallel computing\n",
    "    config.NZONES      = int(1) # for multi-zone simulations\n",
    "    \n",
    "    config.RESTART_SOL= \"YES\"\n",
    "    config.MATH_PROBLEM= \"DIRECT\"\n",
    "    config.READ_BINARY_RESTART= \"NO\"\n",
    "    config.SAVE_LIBROM=\"YES\"\n",
    "    config.ITER= 0\n",
    "    \n",
    "    config.SOLUTION_FILENAME    = dir_names[i]+sol_filename\n",
    "    config.LIBROM_BASE_FILENAME = librom_filenames[i]\n",
    "    \n",
    "    try:\n",
    "        info = SU2.run.direct(config) # errors because of Jupyter but creates config_CFD file anyway\n",
    "    except:\n",
    "        run_string = path_to_SU2_CFD + \" config_CFD\"\n",
    "        os.system(\"SU2_CFD config_CFD.cfg\")"
   ]
  },
  {
   "attachments": {},
   "cell_type": "markdown",
   "metadata": {},
   "source": [
    "# Use libROM to read snapshots and compute POD basis\n",
    "- use combine_samples.C file function to create total POD basis. File comes with libROM installation"
   ]
  },
  {
   "cell_type": "code",
   "execution_count": 5,
   "metadata": {},
   "outputs": [],
   "source": [
    "# folder location of snapshots above\n",
    "snap_location = \"librom_data/\""
   ]
  },
  {
   "cell_type": "code",
   "execution_count": null,
   "metadata": {},
   "outputs": [],
   "source": [
    "# define path to librom snapshots captured above\n",
    "librom_snaps = ['data/' + x + '/librom/su2_snapshot' for x in librom_filenames]\n",
    "librom_snaps"
   ]
  },
  {
   "cell_type": "code",
   "execution_count": 4,
   "metadata": {},
   "outputs": [
    {
     "data": {
      "text/plain": [
       "'./combine_samples data/mach2/librom/su2_snapshot data/mach2p15/librom/su2_snapshot data/mach2p25/librom/su2_snapshot data/mach2p35/librom/su2_snapshot data/mach2p5/librom/su2_snapshot data/mach2p6/librom/su2_snapshot data/mach2p75/librom/su2_snapshot data/mach2p85/librom/su2_snapshot data/mach3/librom/su2_snapshot data/mach3p15/librom/su2_snapshot data/mach3p25/librom/su2_snapshot data/mach3p35/librom/su2_snapshot data/mach3p5/librom/su2_snapshot data/mach3p6/librom/su2_snapshot data/mach3p75/librom/su2_snapshot data/mach3p85/librom/su2_snapshot data/mach4/librom/su2_snapshot > librom2.out'"
      ]
     },
     "execution_count": 4,
     "metadata": {},
     "output_type": "execute_result"
    }
   ],
   "source": [
    "run_string = \"./combine_samples \"+\" \".join(str(x) for x in librom_snaps) + \" > librom.out\"\n",
    "run_string"
   ]
  },
  {
   "cell_type": "code",
   "execution_count": 5,
   "metadata": {},
   "outputs": [
    {
     "data": {
      "text/plain": [
       "65280"
      ]
     },
     "execution_count": 5,
     "metadata": {},
     "output_type": "execute_result"
    }
   ],
   "source": [
    "os.system(run_string)\n"
   ]
  },
  {
   "cell_type": "code",
   "execution_count": 13,
   "metadata": {},
   "outputs": [
    {
     "data": {
      "text/plain": [
       "'./combine_samples -b total data/unsteady_m2p5/su2 > librom3.out'"
      ]
     },
     "execution_count": 13,
     "metadata": {},
     "output_type": "execute_result"
    }
   ],
   "source": [
    "# combine basis samples (NOT a typical option for SU2 users)\n",
    "run_string2 = \"./combine_samples -b \"+ \"total data/unsteady_m2p5/su2 > librom2.out\"\n",
    "run_string2\n"
   ]
  },
  {
   "cell_type": "code",
   "execution_count": 14,
   "metadata": {},
   "outputs": [
    {
     "data": {
      "text/plain": [
       "0"
      ]
     },
     "execution_count": 14,
     "metadata": {},
     "output_type": "execute_result"
    }
   ],
   "source": [
    "os.system(run_string2)"
   ]
  },
  {
   "cell_type": "markdown",
   "metadata": {},
   "source": [
    "### go to matlab and create: \n",
    "- POD file, \n",
    "- initial snapshot/coord file, and \n",
    "- reference snapshot file"
   ]
  },
  {
   "cell_type": "markdown",
   "metadata": {},
   "source": [
    "# run ROM simulations"
   ]
  },
  {
   "cell_type": "code",
   "execution_count": 13,
   "metadata": {},
   "outputs": [],
   "source": [
    "# run SU2 and capture snapshots\n",
    "\n",
    "#~ required inputs ~#\n",
    "ConfigFileName        = \"cyl.cfg\"\n",
    "mesh_filename         = \"cyl_med_20k.su2\"\n",
    "POD_filename          = \"inputs/POD_mean.csv\"\n",
    "ref_snapshot_filename = \"inputs/wref_mean.csv\"\n",
    "iters        = 500\n",
    "nPOD_modes   = 8\n",
    "hyper_nodes  = 0      # use 0 for no hyper-reduction\n",
    "\n",
    "#~ other possible inputs ~#\n",
    "\n",
    "# if using hyper-reduction:\n",
    "hyper_nodes_filename = None\n",
    "\n",
    "# use ONE of the following three:\n",
    "# if you want to use a restart file as the initial condition:\n",
    "solution_filename         = None \n",
    "# or use one of the following:\n",
    "initial_snapshot_filename = None\n",
    "initial_coord_filename    = \"inputs/coord_baseline.csv\"\n",
    "\n",
    "# -------------------------------------------------- #\n",
    "\n",
    "#~ setup new configuration ~#\n",
    "config = SU2.io.Config(ConfigFileName)\n",
    "state  = SU2.io.State()\n",
    "config.MESH_FILENAME = mesh_filename\n",
    "config.NUMBER_PART = int(1) # for parallel computing\n",
    "config.NZONES      = int(1) # for multi-zone simulations\n",
    "\n",
    "#~ setup config file: ~#\n",
    "if (solution_filename): \n",
    "    config.RESTART_SOL = \"YES\"\n",
    "else:\n",
    "    config.RESTART_SOL = \"NO\"\n",
    "config.MATH_PROBLEM = \"ROM\"\n",
    "config.READ_BINARY_RESTART = \"NO\"\n",
    "config.SAVE_LIBROM = \"NO\"\n",
    "config.ITER = iters\n",
    "\n",
    "for i in range(len([1])):\n",
    "    config.ROM_TESTBASIS_FILENAME = POD_filename\n",
    "    config.POD_MODES= nPOD_modes\n",
    "    config.REF_SNAPSHOT_FILENAME = ref_snapshot_filename\n",
    "    config.CENTRAL_JACOBIAN_FIX_FACTOR = 1.0\n",
    "    config.TIME_DISCRE_FLOW= \"EULER_IMPLICIT\"\n",
    "    \n",
    "    if (solution_filename): \n",
    "        config.SOLUTION_FILENAME = solution_filename\n",
    "    elif (initial_snapshot_filename): \n",
    "        config.INITIAL_SNAPSHOT_FILENAME = initial_snapshot_filename\n",
    "    elif (initial_coord_filename):\n",
    "        config.INITIAL_COORD_FILENAME = initial_coord_filename\n",
    "\n",
    "    config.HYPER_NODES= hyper_nodes\n",
    "    if (hyper_nodes > 0):\n",
    "        config.HYPER_NODES_FILENAME = hyper_nodes_filename\n",
    "    \n",
    "    try:\n",
    "        info = SU2.run.direct(config)\n",
    "    except:\n",
    "        os.system(\"/Users/jessie/Software/SU2-nemor/bin/SU2_CFD config_CFD.cfg > a.out\")"
   ]
  },
  {
   "cell_type": "markdown",
   "metadata": {},
   "source": [
    "# save true solution from snapshot"
   ]
  },
  {
   "cell_type": "code",
   "execution_count": 20,
   "metadata": {},
   "outputs": [],
   "source": [
    "# run SU2 and capture snapshots\n",
    "\n",
    "ConfigFileName = \"data/N2_p7/box.cfg\"\n",
    "solution_filename = \"data/N2_p7/restart_flow.csv\"\n",
    "librom_output_name = \"wtrue\"\n",
    "mesh_filename = \"data/N2_1/box100.su2\"\n",
    "\n",
    "# setup new configuration\n",
    "config = SU2.io.Config(ConfigFileName)\n",
    "state  = SU2.io.State()\n",
    "config.MESH_FILENAME = mesh_filename\n",
    "config.NUMBER_PART = int(1) # for parallel computing\n",
    "config.NZONES      = int(1) # for multi-zone simulations\n",
    "\n",
    "# setup config file:\n",
    "config.RESTART_SOL= \"YES\"\n",
    "config.MATH_PROBLEM= \"DIRECT\"\n",
    "config.READ_BINARY_RESTART= \"NO\"\n",
    "config.SAVE_LIBROM=\"YES\"\n",
    "config.ITER= 0\n",
    "\n",
    "for i in range(len([1])):\n",
    "    config.SOLUTION_FILENAME    = solution_filename\n",
    "    config.LIBROM_BASE_FILENAME = librom_output_name\n",
    "    \n",
    "    try:\n",
    "        info = SU2.run.direct(config)\n",
    "    except:\n",
    "        os.system(\"/Users/jessie/Software/SU2-nemor/bin/SU2_CFD config_CFD.cfg > wtrue.out\")"
   ]
  }
 ],
 "metadata": {
  "kernelspec": {
   "display_name": "Python 3",
   "language": "python",
   "name": "python3"
  },
  "language_info": {
   "codemirror_mode": {
    "name": "ipython",
    "version": 3
   },
   "file_extension": ".py",
   "mimetype": "text/x-python",
   "name": "python",
   "nbconvert_exporter": "python",
   "pygments_lexer": "ipython3",
   "version": "3.9.13"
  }
 },
 "nbformat": 4,
 "nbformat_minor": 4
}
